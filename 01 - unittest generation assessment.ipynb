{
 "cells": [
  {
   "cell_type": "code",
   "execution_count": 1,
   "id": "4ae882bb-a7f6-44cb-a807-dbda83c33ee2",
   "metadata": {},
   "outputs": [],
   "source": [
    "from genai import gemini\n",
    "from inspect import getsource\n",
    "from smells import smells\n",
    "import subprocess\n",
    "import sys"
   ]
  },
  {
   "cell_type": "markdown",
   "id": "11339490-c227-47c7-bcb3-43ee60eb5de9",
   "metadata": {},
   "source": [
    "# select model to generate the unit tests"
   ]
  },
  {
   "cell_type": "code",
   "execution_count": 2,
   "id": "40acd822-8441-470b-82b8-b0e428852d45",
   "metadata": {},
   "outputs": [
    {
     "name": "stderr",
     "output_type": "stream",
     "text": [
      "\u001b[32m2025-03-30 19:11:00.171\u001b[0m | \u001b[1mINFO    \u001b[0m | \u001b[36mgenai.gemini\u001b[0m:\u001b[36m__init__\u001b[0m:\u001b[36m22\u001b[0m - \u001b[1musing gemini-2.0-pro-exp-02-05, temp 1.0, top_p 1, max_output_tokens 2048\u001b[0m\n"
     ]
    }
   ],
   "source": [
    "m = gemini.GeminiModel()"
   ]
  },
  {
   "cell_type": "markdown",
   "id": "3aa63f56-553f-4f19-91ff-23fb605b0f1b",
   "metadata": {},
   "source": [
    "# define the package and function for which to generate test\n",
    "\n",
    "- it must be importable.\n",
    "- we use funcs in file `misc.py`"
   ]
  },
  {
   "cell_type": "code",
   "execution_count": 3,
   "id": "6f67a7d6-b84d-4d20-a2c1-a861df79906f",
   "metadata": {},
   "outputs": [],
   "source": [
    "module_name = 'misc'\n",
    "#function_name = 'isprime'\n",
    "#function_name = 'cauchy'\n",
    "function_name = 'change_money'"
   ]
  },
  {
   "cell_type": "markdown",
   "id": "3a91a490-fcdf-477f-bbea-c4fe6ea2b712",
   "metadata": {},
   "source": [
    "# inspect function to test"
   ]
  },
  {
   "cell_type": "code",
   "execution_count": 34,
   "id": "ba0296ca-2af1-43e6-a62b-c10681385231",
   "metadata": {},
   "outputs": [
    {
     "name": "stdout",
     "output_type": "stream",
     "text": [
      "def change_money(n):\n",
      "    \"\"\"\n",
      "    given n, a number of cents between 1 and 99\n",
      "    computes the number of coins of 1c, 10c and 25c to reach n\n",
      "    \"\"\"\n",
      "    change=[0,0,0]\n",
      "    if (n<1 or n>99):\n",
      "        return None\n",
      "    \n",
      "    else:\n",
      "        change[2]=n//25\n",
      "        n-=change[2]*25\n",
      "        change[1]=n//10\n",
      "        change[0]=n%10\n",
      "        return change\n",
      "\n"
     ]
    }
   ],
   "source": [
    "exec(f'from modules.{module_name} import {function_name}')\n",
    "function = eval(function_name)\n",
    "print (getsource(function))"
   ]
  },
  {
   "cell_type": "markdown",
   "id": "89ea0ddf-17af-41be-8220-c24f3ee85ec8",
   "metadata": {},
   "source": [
    "# create generation prompt"
   ]
  },
  {
   "cell_type": "code",
   "execution_count": 5,
   "id": "c4311384-e29f-4059-8940-67337691fe75",
   "metadata": {},
   "outputs": [],
   "source": [
    "prompt = f\"\"\"\n",
    "generate a unit test for this python function which is accessible with the following import\n",
    "\n",
    "from modules.{module_name} import {function_name}\n",
    "\n",
    "<FUNCTION_DEFINITION>\n",
    "{getsource(function)}\n",
    "</FUNCTION_DEFINITION>\n",
    "\n",
    "- enclose the unit test class tigether with all necessary imports within an xml tag <UNITTEST_CLASS> \n",
    "- include docstrings of all functions, classes and modules\n",
    "\"\"\""
   ]
  },
  {
   "cell_type": "markdown",
   "id": "f23f3f0d-4813-41e0-84c6-d7b2a96260cc",
   "metadata": {},
   "source": [
    "# generate unit test"
   ]
  },
  {
   "cell_type": "code",
   "execution_count": 23,
   "id": "0bb1ceed-22aa-4567-a95f-1a045e338110",
   "metadata": {},
   "outputs": [],
   "source": [
    "a = m.generate_text(prompt)"
   ]
  },
  {
   "cell_type": "markdown",
   "id": "9c0f78b7-8172-45ac-9073-b9d8eb232aa4",
   "metadata": {},
   "source": [
    "# extract unit test code"
   ]
  },
  {
   "cell_type": "code",
   "execution_count": 24,
   "id": "f37c390e-0663-4b24-baf2-a4ded793d981",
   "metadata": {},
   "outputs": [
    {
     "name": "stdout",
     "output_type": "stream",
     "text": [
      "import unittest\n",
      "from modules.misc import change_money\n",
      "\n",
      "class TestChangeMoney(unittest.TestCase):\n",
      "    \"\"\"\n",
      "    Unit tests for the change_money function.\n",
      "    \"\"\"\n",
      "\n",
      "    def test_valid_input(self):\n",
      "        \"\"\"\n",
      "        Test cases with valid input (1-99 cents).\n",
      "        \"\"\"\n",
      "        self.assertEqual(change_money(1), [1, 0, 0])\n",
      "        self.assertEqual(change_money(10), [0, 1, 0])\n",
      "        self.assertEqual(change_money(25), [0, 0, 1])\n",
      "        self.assertEqual(change_money(26), [1, 0, 1])\n",
      "        self.assertEqual(change_money(35), [0, 1, 1])\n",
      "        self.assertEqual(change_money(50), [0, 0, 2])\n",
      "        self.assertEqual(change_money(61), [1, 1, 2])\n",
      "        self.assertEqual(change_money(99), [4, 2, 3])\n",
      "        self.assertEqual(change_money(75), [0, 0, 3])\n",
      "        self.assertEqual(change_money(76), [1, 0, 3] )\n",
      "        self.assertEqual(change_money(85), [0, 1, 3])\n",
      "        self.assertEqual(change_money(95), [0, 2, 3])\n",
      "        self.assertEqual(change_money(4), [4, 0, 0])\n",
      "        self.assertEqual(change_money(9), [9, 0, 0])\n",
      "       \n",
      "\n",
      "    def test_invalid_input(self):\n",
      "        \"\"\"\n",
      "        Test cases with invalid input (less than 1 or greater than 99 cents).\n",
      "        \"\"\"\n",
      "        self.assertIsNone(change_money(0))\n",
      "        self.assertIsNone(change_money(100))\n",
      "        self.assertIsNone(change_money(-1))\n",
      "        self.assertIsNone(change_money(1000))\n",
      "\n",
      "    def test_edge_cases(self):\n",
      "        \"\"\"\n",
      "        Test edge cases.\n",
      "        \"\"\"\n",
      "        self.assertEqual(change_money(1), [1, 0, 0])\n",
      "        self.assertEqual(change_money(99), [4, 2, 3])\n",
      "\n",
      "\n",
      "if __name__ == '__main__':\n",
      "    unittest.main()\n",
      "\n"
     ]
    }
   ],
   "source": [
    "f_start = a.find('<UNITTEST_CLASS>')+17\n",
    "f_end = a.find('</UNITTEST_CLASS>')\n",
    "\n",
    "unittest_src = a[f_start:f_end]\n",
    "print(unittest_src)"
   ]
  },
  {
   "cell_type": "markdown",
   "id": "0f8447fb-8a9e-4906-a0fa-2c7703bca676",
   "metadata": {},
   "source": [
    "# run the test"
   ]
  },
  {
   "cell_type": "code",
   "execution_count": 25,
   "id": "2f9ab126-dfe4-4c2a-bae6-8be4da2c9212",
   "metadata": {},
   "outputs": [],
   "source": [
    "if not 'unittest.main()' in unittest_src:\n",
    "    unittest_src += \"\"\"\n",
    "if __name__ == '__main__':\n",
    "    unittest.main()\n",
    "    \"\"\"\n",
    "\n",
    "with open('file_with_tests.py', 'w') as f:\n",
    "    f.write(unittest_src)"
   ]
  },
  {
   "cell_type": "code",
   "execution_count": 26,
   "id": "658eb26c-8be7-4fc8-b0f4-16288a2448c6",
   "metadata": {},
   "outputs": [],
   "source": [
    "command = [sys.executable, 'file_with_tests.py']"
   ]
  },
  {
   "cell_type": "code",
   "execution_count": 27,
   "id": "3f340c2d-3c32-478c-a3db-767292610bea",
   "metadata": {},
   "outputs": [],
   "source": [
    "result = subprocess.run(\n",
    "    command,\n",
    "    capture_output=True,\n",
    "    text=True,\n",
    "    check=False, # Recommended to automatically check for errors\n",
    "    encoding='utf-8'\n",
    ")"
   ]
  },
  {
   "cell_type": "code",
   "execution_count": 28,
   "id": "66bcb817-a747-4571-b846-8d3975699de4",
   "metadata": {},
   "outputs": [
    {
     "name": "stdout",
     "output_type": "stream",
     "text": [
      "\n"
     ]
    }
   ],
   "source": [
    "print(result.stdout)"
   ]
  },
  {
   "cell_type": "code",
   "execution_count": 29,
   "id": "d57eb1ef-184e-489d-8bb1-70236161bba5",
   "metadata": {},
   "outputs": [
    {
     "name": "stdout",
     "output_type": "stream",
     "text": [
      "...\n",
      "----------------------------------------------------------------------\n",
      "Ran 3 tests in 0.000s\n",
      "\n",
      "OK\n",
      "\n"
     ]
    }
   ],
   "source": [
    "print(result.stderr)"
   ]
  },
  {
   "cell_type": "code",
   "execution_count": null,
   "id": "ed58fd84-b1df-4c02-b8de-e0dfa6affc00",
   "metadata": {},
   "outputs": [],
   "source": []
  },
  {
   "cell_type": "markdown",
   "id": "5e8cfcfa-62b4-421a-a630-63b0bf09a9df",
   "metadata": {},
   "source": [
    "# run test smells\n",
    "\n",
    "- https://github.com/maxpacs98/disertation"
   ]
  },
  {
   "cell_type": "code",
   "execution_count": 30,
   "id": "69865bd8-3cd8-4f69-a048-ffce34985eb4",
   "metadata": {},
   "outputs": [
    {
     "data": {
      "text/plain": [
       "{'check_assertion_roulette': 'ok',\n",
       " 'check_conditional_logic': 'ok',\n",
       " 'check_duplicate_assert': 'ok',\n",
       " 'check_eager_test': 'ok',\n",
       " 'check_exception_handling': 'ok',\n",
       " 'check_ignored_test': 'ok',\n",
       " 'check_magic_number': 'ok',\n",
       " 'check_redundant_print': 'ok',\n",
       " 'check_sleepy_test': 'ok',\n",
       " 'check_unknown_test': 'ok'}"
      ]
     },
     "execution_count": 30,
     "metadata": {},
     "output_type": "execute_result"
    }
   ],
   "source": [
    "smells_functions = {i: eval(f'smells.{i}') for i in dir(smells) if i.startswith('check')}\n",
    "\n",
    "{k: \"ok\" if len(v(unittest_src))==0 else 'not_ok' for k,v in smells_functions.items()}"
   ]
  },
  {
   "cell_type": "markdown",
   "id": "21f1558f-8663-44a1-bbef-9a7ac6bb605e",
   "metadata": {},
   "source": [
    "# run `pylint`"
   ]
  },
  {
   "cell_type": "code",
   "execution_count": 31,
   "id": "5e2ede30-e740-4182-840b-61c2b4ea4527",
   "metadata": {},
   "outputs": [],
   "source": [
    "pylint_executable = \"/\".join(sys.executable.split('/')[:-1] + ['pylint'])\n",
    "command = [pylint_executable, 'file_with_tests.py']"
   ]
  },
  {
   "cell_type": "code",
   "execution_count": 32,
   "id": "e81f6359-dc59-467b-9c7b-7c7b75290ab8",
   "metadata": {},
   "outputs": [],
   "source": [
    "\n",
    "    result = subprocess.run(\n",
    "        command,\n",
    "        capture_output=True,\n",
    "        text=True,\n",
    "        check=False, # Recommended to automatically check for errors\n",
    "        encoding='utf-8'\n",
    "    )"
   ]
  },
  {
   "cell_type": "code",
   "execution_count": 33,
   "id": "0bdb9193-a9bc-41e0-8098-d1da321fadb7",
   "metadata": {},
   "outputs": [
    {
     "name": "stdout",
     "output_type": "stream",
     "text": [
      "************* Module file_with_tests\n",
      "file_with_tests.py:27:0: C0303: Trailing whitespace (trailing-whitespace)\n",
      "file_with_tests.py:1:0: C0114: Missing module docstring (missing-module-docstring)\n",
      "\n",
      "------------------------------------------------------------------\n",
      "Your code has been rated at 9.29/10 (previous run: 9.62/10, -0.33)\n",
      "\n",
      "\n"
     ]
    }
   ],
   "source": [
    "print(result.stdout)"
   ]
  },
  {
   "cell_type": "code",
   "execution_count": 34,
   "id": "e2f9091c-8db7-4238-9111-0677163bbfcd",
   "metadata": {},
   "outputs": [
    {
     "name": "stdout",
     "output_type": "stream",
     "text": [
      "\n"
     ]
    }
   ],
   "source": [
    "print(result.stderr)"
   ]
  },
  {
   "cell_type": "code",
   "execution_count": null,
   "id": "0503b246-75b8-4077-aa94-54920949d7b9",
   "metadata": {},
   "outputs": [],
   "source": []
  }
 ],
 "metadata": {
  "kernelspec": {
   "display_name": "p312",
   "language": "python",
   "name": "p312"
  },
  "language_info": {
   "codemirror_mode": {
    "name": "ipython",
    "version": 3
   },
   "file_extension": ".py",
   "mimetype": "text/x-python",
   "name": "python",
   "nbconvert_exporter": "python",
   "pygments_lexer": "ipython3",
   "version": "3.12.5"
  }
 },
 "nbformat": 4,
 "nbformat_minor": 5
}
