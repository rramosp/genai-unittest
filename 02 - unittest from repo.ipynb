{
 "cells": [
  {
   "cell_type": "code",
   "execution_count": 4,
   "id": "d70cb111-91c3-43f4-ac65-e890aef85195",
   "metadata": {},
   "outputs": [],
   "source": [
    "import json\n",
    "import os\n",
    "from glob import glob\n",
    "from tqdm import tqdm\n",
    "from google import genai\n",
    "from time import time"
   ]
  },
  {
   "cell_type": "code",
   "execution_count": null,
   "id": "50ca8e1e-9560-4455-ae7b-5f6db7a6eff5",
   "metadata": {},
   "outputs": [],
   "source": []
  },
  {
   "cell_type": "code",
   "execution_count": 3,
   "id": "168d1bb0-1e8a-4233-a9d4-c1712a3c103a",
   "metadata": {},
   "outputs": [],
   "source": [
    "with open(f\"{os.environ['HOME']}/secrets/apikeys.json\", \"r\") as f:\n",
    "    api_keys = json.load(f)"
   ]
  },
  {
   "cell_type": "code",
   "execution_count": null,
   "id": "82a71d5a-7710-4892-bf94-048b6cf3b4e3",
   "metadata": {},
   "outputs": [],
   "source": []
  },
  {
   "cell_type": "code",
   "execution_count": 9,
   "id": "7f800e11-e3e7-436b-867a-36f2bfb27a94",
   "metadata": {},
   "outputs": [
    {
     "data": {
      "text/plain": [
       "'awesome-python-projects'"
      ]
     },
     "execution_count": 9,
     "metadata": {},
     "output_type": "execute_result"
    }
   ],
   "source": [
    "git_url = 'https://github.com/unclecode/crawl4ai.git'\n",
    "git_url = 'https://github.com/microsoft/markitdown.git'\n",
    "git_url = 'https://github.com/RockChinQ/LangBot.git'\n",
    "git_url = 'https://github.com/meta-llama/llama-models.git'\n",
    "git_url = 'https://github.com/ultralytics/yolov5.git'\n",
    "git_url = 'https://github.com/garimasingh128/awesome-python-projects.git'\n",
    "repo_name = git_url.split('/')[-1].split('.')[0]\n",
    "repo_name"
   ]
  },
  {
   "cell_type": "code",
   "execution_count": 10,
   "id": "adb58b13-81dc-4be6-b764-e9aea4d07381",
   "metadata": {},
   "outputs": [
    {
     "name": "stdout",
     "output_type": "stream",
     "text": [
      "Cloning into 'awesome-python-projects'...\n",
      "remote: Enumerating objects: 1225, done.\u001b[K\n",
      "remote: Counting objects: 100% (6/6), done.\u001b[K\n",
      "remote: Compressing objects: 100% (6/6), done.\u001b[K\n",
      "^Cceiving objects:  49% (605/1225), 93.45 MiB | 933.00 KiB/s \n"
     ]
    }
   ],
   "source": [
    "!git clone $git_url "
   ]
  },
  {
   "cell_type": "code",
   "execution_count": 5,
   "id": "bce204db-91b4-42b0-80c3-e20c4693363d",
   "metadata": {},
   "outputs": [
    {
     "data": {
      "text/plain": [
       "51"
      ]
     },
     "execution_count": 5,
     "metadata": {},
     "output_type": "execute_result"
    }
   ],
   "source": [
    "pyfiles = glob(f\"{repo_name}/**/*.py\", recursive=True)\n",
    "len(pyfiles)"
   ]
  },
  {
   "cell_type": "code",
   "execution_count": 6,
   "id": "7d272865-65d0-48cf-b0f2-f5d20555d374",
   "metadata": {},
   "outputs": [
    {
     "name": "stderr",
     "output_type": "stream",
     "text": [
      "100%|██████████████████████████████████████████| 51/51 [00:00<00:00, 4785.98it/s]\n"
     ]
    }
   ],
   "source": [
    "sources = {}\n",
    "\n",
    "for file in tqdm(pyfiles):\n",
    "    with open(file) as f:\n",
    "        sources[file] = f.read()\n",
    "    "
   ]
  },
  {
   "cell_type": "code",
   "execution_count": 7,
   "id": "0f8c39d4-3d8e-4e54-a334-a46ee0a373b2",
   "metadata": {},
   "outputs": [],
   "source": [
    "nlines = {file: len([i for i in content.split('\\n') if len(i.strip())>0 and not i.strip().startswith('#')]) for file,content in sources.items()}"
   ]
  },
  {
   "cell_type": "code",
   "execution_count": 8,
   "id": "00a13886-e462-46f2-a4f2-ae977012d5cf",
   "metadata": {},
   "outputs": [
    {
     "data": {
      "text/plain": [
       "(14463, 51)"
      ]
     },
     "execution_count": 8,
     "metadata": {},
     "output_type": "execute_result"
    }
   ],
   "source": [
    "sum(nlines.values()), len(nlines)"
   ]
  },
  {
   "cell_type": "code",
   "execution_count": 56,
   "id": "02d43a0c-b7f6-44b4-93b5-0222e440e00e",
   "metadata": {},
   "outputs": [],
   "source": [
    "nlines;"
   ]
  },
  {
   "cell_type": "code",
   "execution_count": 58,
   "id": "d675b047-4951-4f8a-8904-d0d13b34f29e",
   "metadata": {},
   "outputs": [],
   "source": [
    "prompt = \"\"\"\n",
    "Following you have the contents of a Python software project separated by source files.\n",
    "\n",
    "Extract from all those files a list of functions and class methods that would require unit tests.\n",
    "\n",
    "**FILES**\n",
    "\n",
    "\"\"\"\n",
    "\n",
    "prompt = \"\"\"\n",
    "Following you have the contents of a Python software project separated by source files.\n",
    "\n",
    "Make a unit test for each significant functions or class methods that would require unit tests.\n",
    "\n",
    "**FILES**\n",
    "\n",
    "\"\"\"\n",
    "\n",
    "files_str = \"\"\n",
    "for k,v in sources.items():\n",
    "    files_str += f\"\"\"\n",
    "<SOURCE_FILE>\n",
    "<FILE_PATH>{k}</FILE_PATH>\n",
    "<FILE_CONTENT>\n",
    "{v}\n",
    "</FILE_CONTENT>\n",
    "<SOURCE_FILE>\n",
    "\n",
    "    \"\"\"\n",
    "\n",
    "prompt = prompt.replace(\"**FILES**\", files_str)"
   ]
  },
  {
   "cell_type": "code",
   "execution_count": 60,
   "id": "b10bcb0e-0a78-4a77-bddf-a40b3096c229",
   "metadata": {},
   "outputs": [
    {
     "data": {
      "text/plain": [
       "686181"
      ]
     },
     "execution_count": 60,
     "metadata": {},
     "output_type": "execute_result"
    }
   ],
   "source": [
    "len(prompt)"
   ]
  },
  {
   "cell_type": "code",
   "execution_count": 61,
   "id": "3b21179d-511b-49de-b0f0-3d4060016623",
   "metadata": {},
   "outputs": [],
   "source": [
    "from google import genai\n",
    "\n",
    "client = genai.Client(api_key=api_keys['GEMINI_API_KEY'])\n"
   ]
  },
  {
   "cell_type": "code",
   "execution_count": 62,
   "id": "1e4d9d21-9049-457b-b7c7-7d85a867859b",
   "metadata": {},
   "outputs": [],
   "source": [
    "#model =\"gemini-2.0-flash-001\"\n",
    "model =\"gemini-2.5-pro-exp-03-25\"\n",
    "\n"
   ]
  },
  {
   "cell_type": "code",
   "execution_count": 63,
   "id": "04f8e1e2-c41d-4f28-a349-2bd256558c38",
   "metadata": {},
   "outputs": [
    {
     "name": "stdout",
     "output_type": "stream",
     "text": [
      "total_tokens=193063 cached_content_token_count=None\n",
      "elapsed time 1.70 secs\n"
     ]
    }
   ],
   "source": [
    "t0 = time()\n",
    "\n",
    "cin = client.models.count_tokens(\n",
    "    model = model,\n",
    "    contents = prompt\n",
    ")\n",
    "\n",
    "count_tokens_elapsed_time = time() - t0\n",
    "print (f\"{cin}\\nelapsed time {count_tokens_elapsed_time:.2f} secs\")"
   ]
  },
  {
   "cell_type": "code",
   "execution_count": 108,
   "id": "1d6ac801-bdc0-47e1-9427-6147e600c5ee",
   "metadata": {},
   "outputs": [
    {
     "name": "stdout",
     "output_type": "stream",
     "text": [
      "total_tokens=161408 cached_content_token_count=None\n",
      "elapsed time 248.77 secs\n"
     ]
    }
   ],
   "source": [
    "t0 = time()\n",
    "\n",
    "response = client.models.generate_content(\n",
    "    model = model,\n",
    "    contents=prompt\n",
    ")\n",
    "\n",
    "generation_elapsed_time = time() - t0\n",
    "print (f\"elapsed time {generation_elapsed_time:.2f} secs\")"
   ]
  },
  {
   "cell_type": "code",
   "execution_count": 113,
   "id": "808959e4-fb8f-47c6-ad76-19534cdeab30",
   "metadata": {},
   "outputs": [
    {
     "data": {
      "text/plain": [
       "CountTokensResponse(total_tokens=35907, cached_content_token_count=None)"
      ]
     },
     "execution_count": 113,
     "metadata": {},
     "output_type": "execute_result"
    }
   ],
   "source": [
    "cout = client.models.count_tokens(\n",
    "    model = model,\n",
    "    contents = response.text\n",
    ")\n",
    "cout"
   ]
  },
  {
   "cell_type": "code",
   "execution_count": 110,
   "id": "358f5951-a7c8-480f-a4a4-dadf5591065a",
   "metadata": {},
   "outputs": [
    {
     "data": {
      "text/plain": [
       "124022"
      ]
     },
     "execution_count": 110,
     "metadata": {},
     "output_type": "execute_result"
    }
   ],
   "source": [
    "len(response.text)"
   ]
  },
  {
   "cell_type": "code",
   "execution_count": null,
   "id": "d460ff06-05af-43b6-b9e8-2cb7bf6b26f8",
   "metadata": {},
   "outputs": [],
   "source": [
    "print(response.text)"
   ]
  },
  {
   "cell_type": "code",
   "execution_count": 114,
   "id": "cb0b7d08-7683-49dd-a6f8-3616c3fad5a5",
   "metadata": {},
   "outputs": [],
   "source": [
    "with open('unittest.py', 'w') as f:\n",
    "    f.write(response.text)"
   ]
  },
  {
   "cell_type": "code",
   "execution_count": null,
   "id": "ce9c62fa-f0a2-4412-9790-06e810dd28fe",
   "metadata": {},
   "outputs": [],
   "source": []
  }
 ],
 "metadata": {
  "kernelspec": {
   "display_name": "p312 (Local)",
   "language": "python",
   "name": "p312"
  },
  "language_info": {
   "codemirror_mode": {
    "name": "ipython",
    "version": 3
   },
   "file_extension": ".py",
   "mimetype": "text/x-python",
   "name": "python",
   "nbconvert_exporter": "python",
   "pygments_lexer": "ipython3",
   "version": "3.12.5"
  }
 },
 "nbformat": 4,
 "nbformat_minor": 5
}
